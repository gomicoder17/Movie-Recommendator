{
 "cells": [
  {
   "cell_type": "markdown",
   "metadata": {},
   "source": [
    "# MOVIE AND SERIES ETL"
   ]
  },
  {
   "cell_type": "markdown",
   "metadata": {},
   "source": [
    "### Import Libraries"
   ]
  },
  {
   "cell_type": "code",
   "execution_count": 48,
   "metadata": {},
   "outputs": [],
   "source": [
    "import pandas\n",
    "import urllib.request\n",
    "import os.path\n",
    "import gzip"
   ]
  },
  {
   "cell_type": "markdown",
   "metadata": {},
   "source": [
    "## Extract"
   ]
  },
  {
   "cell_type": "markdown",
   "metadata": {},
   "source": [
    "### Series Ids and Original titles"
   ]
  },
  {
   "cell_type": "code",
   "execution_count": 50,
   "metadata": {},
   "outputs": [
    {
     "name": "stdout",
     "output_type": "stream",
     "text": [
      "Series already downloaded\n"
     ]
    }
   ],
   "source": [
    "file=\"tv_series_ids_11_03_2022.json.gz\"\n",
    "if not os.path.isfile(\"data/\"+file) and not os.path.isfile(\"data/\"+file[:-3]):\n",
    "    print(\"Downloading series...\")\n",
    "    series_ids_url=f\"http://files.tmdb.org/p/exports/{file}\"\n",
    "    if not os.path.exists(\"data/\"):\n",
    "        os.makedirs(\"data/\")\n",
    "    '''Dowload gzip file'''\n",
    "    urllib.request.urlretrieve(series_ids_url, f\"data/{file}\")\n",
    "    '''Unzip file'''\n",
    "    with gzip.open(f\"data{file}\", \"rb\") as f:\n",
    "        file_content = f.read()\n",
    "    with open(f\"data/{file.replace('.gz', '')}\", \"wb\") as f:\n",
    "        f.write(file_content)\n",
    "    '''Delete the zip file'''\n",
    "    os.remove(f\"data/{file}\")\n",
    "else:\n",
    "    print(\"Series already downloaded\")"
   ]
  },
  {
   "cell_type": "markdown",
   "metadata": {},
   "source": [
    "### Movies ids and Original Titles"
   ]
  },
  {
   "cell_type": "code",
   "execution_count": 51,
   "metadata": {},
   "outputs": [
    {
     "name": "stdout",
     "output_type": "stream",
     "text": [
      "Movies already downloaded\n"
     ]
    }
   ],
   "source": [
    "file=\"movies_ids_11_03_2022.json.gz\"\n",
    "if not os.path.isfile(\"data/\"+file) and not os.path.isfile(\"data/\"+file[:-3]):\n",
    "    print(\"Downloading movies...\")\n",
    "    series_ids_url=f\"http://files.tmdb.org/p/exports/{file}\"\n",
    "    if not os.path.exists(\"data/\"):\n",
    "        os.makedirs(\"data/\")\n",
    "    '''Dowload gzip file'''\n",
    "    urllib.request.urlretrieve(series_ids_url, f\"data/{file}\")\n",
    "    '''Unzip file'''\n",
    "    with gzip.open(f\"data{file}\", \"rb\") as f:\n",
    "        file_content = f.read()\n",
    "    with open(f\"data/{file.replace('.gz', '')}\", \"wb\") as f:\n",
    "        f.write(file_content)\n",
    "    '''Delete the zip file'''\n",
    "    os.remove(f\"data/{file}\")\n",
    "else:\n",
    "    print(\"Movies already downloaded\")"
   ]
  },
  {
   "cell_type": "markdown",
   "metadata": {},
   "source": [
    "## Transform"
   ]
  },
  {
   "cell_type": "code",
   "execution_count": 65,
   "metadata": {},
   "outputs": [],
   "source": [
    "movies_ids = pandas.read_json(\"data/movies_ids_11_03_2022.json\", lines=True)\n",
    "series_ids = pandas.read_json(\"data/tv_series_ids_11_03_2022.json\", lines=True)\n",
    "'''Reset index'''\n",
    "movies_ids.reset_index(drop=True, inplace=True)\n",
    "series_ids.reset_index(drop=True, inplace=True)"
   ]
  },
  {
   "cell_type": "markdown",
   "metadata": {},
   "source": [
    "* Merge both dataframes and add type column to separate movies from series"
   ]
  },
  {
   "cell_type": "code",
   "execution_count": 66,
   "metadata": {},
   "outputs": [],
   "source": [
    "movies_ids[\"type\"] = \"movie\"\n",
    "series_ids[\"type\"] = \"series\"\n",
    "\n",
    "series_ids[\"original_title\"] = series_ids[\"original_name\"]\n",
    "\n",
    "movies_ids = movies_ids[[\"id\", \"original_title\", \"type\"]]\n",
    "series_ids = series_ids[[\"id\", \"original_title\", \"type\"]]\n",
    "\n",
    "movies_and_series_ids = pandas.concat([movies_ids, series_ids], ignore_index=True)"
   ]
  },
  {
   "cell_type": "markdown",
   "metadata": {},
   "source": [
    "* Remove 'N/A' because pandas does not recognize them as NaN"
   ]
  },
  {
   "cell_type": "code",
   "execution_count": 67,
   "metadata": {},
   "outputs": [],
   "source": [
    "movies_and_series_ids=movies_and_series_ids[movies_and_series_ids[\"original_title\"]!=\"N/A\"]"
   ]
  },
  {
   "cell_type": "markdown",
   "metadata": {},
   "source": [
    "## Load"
   ]
  },
  {
   "cell_type": "code",
   "execution_count": 68,
   "metadata": {},
   "outputs": [],
   "source": [
    "movies_and_series_ids.to_csv(\"data/movies_and_series_ids.csv\", index=False)"
   ]
  }
 ],
 "metadata": {
  "kernelspec": {
   "display_name": "Python 3.10.6 64-bit",
   "language": "python",
   "name": "python3"
  },
  "language_info": {
   "codemirror_mode": {
    "name": "ipython",
    "version": 3
   },
   "file_extension": ".py",
   "mimetype": "text/x-python",
   "name": "python",
   "nbconvert_exporter": "python",
   "pygments_lexer": "ipython3",
   "version": "3.10.6"
  },
  "orig_nbformat": 4,
  "vscode": {
   "interpreter": {
    "hash": "841fed4330da2c0f186905de144ecf4da6db16f0ca1e7f45a0769cc74be68adf"
   }
  }
 },
 "nbformat": 4,
 "nbformat_minor": 2
}
